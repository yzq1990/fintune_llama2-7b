{
 "cells": [
  {
   "cell_type": "code",
   "execution_count": 16,
   "metadata": {
    "_cell_guid": "b1076dfc-b9ad-4769-8c92-a6c4dae69d19",
    "_uuid": "8f2839f25d086af736a60e9eeb907d3b93b6e0e5",
    "execution": {
     "iopub.execute_input": "2025-04-07T12:04:15.700618Z",
     "iopub.status.busy": "2025-04-07T12:04:15.700294Z",
     "iopub.status.idle": "2025-04-07T12:04:19.215352Z",
     "shell.execute_reply": "2025-04-07T12:04:19.214336Z",
     "shell.execute_reply.started": "2025-04-07T12:04:15.700594Z"
    },
    "trusted": true
   },
   "outputs": [
    {
     "name": "stdout",
     "output_type": "stream",
     "text": [
      "Requirement already satisfied: trl in /usr/local/lib/python3.10/dist-packages (0.16.1)\n",
      "Requirement already satisfied: bitsandbytes in /usr/local/lib/python3.10/dist-packages (0.45.4)\n",
      "Requirement already satisfied: accelerate>=0.34.0 in /usr/local/lib/python3.10/dist-packages (from trl) (1.2.1)\n",
      "Requirement already satisfied: datasets>=3.0.0 in /usr/local/lib/python3.10/dist-packages (from trl) (3.3.1)\n",
      "Requirement already satisfied: rich in /usr/local/lib/python3.10/dist-packages (from trl) (13.9.4)\n",
      "Requirement already satisfied: transformers>=4.46.0 in /usr/local/lib/python3.10/dist-packages (from trl) (4.51.0)\n",
      "Requirement already satisfied: torch<3,>=2.0 in /usr/local/lib/python3.10/dist-packages (from bitsandbytes) (2.5.1+cu121)\n",
      "Requirement already satisfied: numpy>=1.17 in /usr/local/lib/python3.10/dist-packages (from bitsandbytes) (1.26.4)\n",
      "Requirement already satisfied: packaging>=20.0 in /usr/local/lib/python3.10/dist-packages (from accelerate>=0.34.0->trl) (24.2)\n",
      "Requirement already satisfied: psutil in /usr/local/lib/python3.10/dist-packages (from accelerate>=0.34.0->trl) (5.9.5)\n",
      "Requirement already satisfied: pyyaml in /usr/local/lib/python3.10/dist-packages (from accelerate>=0.34.0->trl) (6.0.2)\n",
      "Requirement already satisfied: huggingface-hub>=0.21.0 in /usr/local/lib/python3.10/dist-packages (from accelerate>=0.34.0->trl) (0.30.1)\n",
      "Requirement already satisfied: safetensors>=0.4.3 in /usr/local/lib/python3.10/dist-packages (from accelerate>=0.34.0->trl) (0.4.5)\n",
      "Requirement already satisfied: filelock in /usr/local/lib/python3.10/dist-packages (from datasets>=3.0.0->trl) (3.17.0)\n",
      "Requirement already satisfied: pyarrow>=15.0.0 in /usr/local/lib/python3.10/dist-packages (from datasets>=3.0.0->trl) (19.0.1)\n",
      "Requirement already satisfied: dill<0.3.9,>=0.3.0 in /usr/local/lib/python3.10/dist-packages (from datasets>=3.0.0->trl) (0.3.8)\n",
      "Requirement already satisfied: pandas in /usr/local/lib/python3.10/dist-packages (from datasets>=3.0.0->trl) (2.2.3)\n",
      "Requirement already satisfied: requests>=2.32.2 in /usr/local/lib/python3.10/dist-packages (from datasets>=3.0.0->trl) (2.32.3)\n",
      "Requirement already satisfied: tqdm>=4.66.3 in /usr/local/lib/python3.10/dist-packages (from datasets>=3.0.0->trl) (4.67.1)\n",
      "Requirement already satisfied: xxhash in /usr/local/lib/python3.10/dist-packages (from datasets>=3.0.0->trl) (3.5.0)\n",
      "Requirement already satisfied: multiprocess<0.70.17 in /usr/local/lib/python3.10/dist-packages (from datasets>=3.0.0->trl) (0.70.16)\n",
      "Requirement already satisfied: fsspec<=2024.12.0,>=2023.1.0 in /usr/local/lib/python3.10/dist-packages (from fsspec[http]<=2024.12.0,>=2023.1.0->datasets>=3.0.0->trl) (2024.12.0)\n",
      "Requirement already satisfied: aiohttp in /usr/local/lib/python3.10/dist-packages (from datasets>=3.0.0->trl) (3.11.12)\n",
      "Requirement already satisfied: mkl_fft in /usr/local/lib/python3.10/dist-packages (from numpy>=1.17->bitsandbytes) (1.3.8)\n",
      "Requirement already satisfied: mkl_random in /usr/local/lib/python3.10/dist-packages (from numpy>=1.17->bitsandbytes) (1.2.4)\n",
      "Requirement already satisfied: mkl_umath in /usr/local/lib/python3.10/dist-packages (from numpy>=1.17->bitsandbytes) (0.1.1)\n",
      "Requirement already satisfied: mkl in /usr/local/lib/python3.10/dist-packages (from numpy>=1.17->bitsandbytes) (2025.0.1)\n",
      "Requirement already satisfied: tbb4py in /usr/local/lib/python3.10/dist-packages (from numpy>=1.17->bitsandbytes) (2022.0.0)\n",
      "Requirement already satisfied: mkl-service in /usr/local/lib/python3.10/dist-packages (from numpy>=1.17->bitsandbytes) (2.4.1)\n",
      "Requirement already satisfied: typing-extensions>=4.8.0 in /usr/local/lib/python3.10/dist-packages (from torch<3,>=2.0->bitsandbytes) (4.12.2)\n",
      "Requirement already satisfied: networkx in /usr/local/lib/python3.10/dist-packages (from torch<3,>=2.0->bitsandbytes) (3.4.2)\n",
      "Requirement already satisfied: jinja2 in /usr/local/lib/python3.10/dist-packages (from torch<3,>=2.0->bitsandbytes) (3.1.4)\n",
      "Requirement already satisfied: sympy==1.13.1 in /usr/local/lib/python3.10/dist-packages (from torch<3,>=2.0->bitsandbytes) (1.13.1)\n",
      "Requirement already satisfied: mpmath<1.4,>=1.1.0 in /usr/local/lib/python3.10/dist-packages (from sympy==1.13.1->torch<3,>=2.0->bitsandbytes) (1.3.0)\n",
      "Requirement already satisfied: regex!=2019.12.17 in /usr/local/lib/python3.10/dist-packages (from transformers>=4.46.0->trl) (2024.11.6)\n",
      "Requirement already satisfied: tokenizers<0.22,>=0.21 in /usr/local/lib/python3.10/dist-packages (from transformers>=4.46.0->trl) (0.21.0)\n",
      "Requirement already satisfied: markdown-it-py>=2.2.0 in /usr/local/lib/python3.10/dist-packages (from rich->trl) (3.0.0)\n",
      "Requirement already satisfied: pygments<3.0.0,>=2.13.0 in /usr/local/lib/python3.10/dist-packages (from rich->trl) (2.19.1)\n",
      "Requirement already satisfied: aiohappyeyeballs>=2.3.0 in /usr/local/lib/python3.10/dist-packages (from aiohttp->datasets>=3.0.0->trl) (2.4.6)\n",
      "Requirement already satisfied: aiosignal>=1.1.2 in /usr/local/lib/python3.10/dist-packages (from aiohttp->datasets>=3.0.0->trl) (1.3.2)\n",
      "Requirement already satisfied: async-timeout<6.0,>=4.0 in /usr/local/lib/python3.10/dist-packages (from aiohttp->datasets>=3.0.0->trl) (5.0.1)\n",
      "Requirement already satisfied: attrs>=17.3.0 in /usr/local/lib/python3.10/dist-packages (from aiohttp->datasets>=3.0.0->trl) (25.1.0)\n",
      "Requirement already satisfied: frozenlist>=1.1.1 in /usr/local/lib/python3.10/dist-packages (from aiohttp->datasets>=3.0.0->trl) (1.5.0)\n",
      "Requirement already satisfied: multidict<7.0,>=4.5 in /usr/local/lib/python3.10/dist-packages (from aiohttp->datasets>=3.0.0->trl) (6.1.0)\n",
      "Requirement already satisfied: propcache>=0.2.0 in /usr/local/lib/python3.10/dist-packages (from aiohttp->datasets>=3.0.0->trl) (0.2.1)\n",
      "Requirement already satisfied: yarl<2.0,>=1.17.0 in /usr/local/lib/python3.10/dist-packages (from aiohttp->datasets>=3.0.0->trl) (1.18.3)\n",
      "Requirement already satisfied: mdurl~=0.1 in /usr/local/lib/python3.10/dist-packages (from markdown-it-py>=2.2.0->rich->trl) (0.1.2)\n",
      "Requirement already satisfied: charset-normalizer<4,>=2 in /usr/local/lib/python3.10/dist-packages (from requests>=2.32.2->datasets>=3.0.0->trl) (3.4.1)\n",
      "Requirement already satisfied: idna<4,>=2.5 in /usr/local/lib/python3.10/dist-packages (from requests>=2.32.2->datasets>=3.0.0->trl) (3.10)\n",
      "Requirement already satisfied: urllib3<3,>=1.21.1 in /usr/local/lib/python3.10/dist-packages (from requests>=2.32.2->datasets>=3.0.0->trl) (2.3.0)\n",
      "Requirement already satisfied: certifi>=2017.4.17 in /usr/local/lib/python3.10/dist-packages (from requests>=2.32.2->datasets>=3.0.0->trl) (2025.1.31)\n",
      "Requirement already satisfied: MarkupSafe>=2.0 in /usr/local/lib/python3.10/dist-packages (from jinja2->torch<3,>=2.0->bitsandbytes) (3.0.2)\n",
      "Requirement already satisfied: intel-openmp>=2024 in /usr/local/lib/python3.10/dist-packages (from mkl->numpy>=1.17->bitsandbytes) (2024.2.0)\n",
      "Requirement already satisfied: tbb==2022.* in /usr/local/lib/python3.10/dist-packages (from mkl->numpy>=1.17->bitsandbytes) (2022.0.0)\n",
      "Requirement already satisfied: tcmlib==1.* in /usr/local/lib/python3.10/dist-packages (from tbb==2022.*->mkl->numpy>=1.17->bitsandbytes) (1.2.0)\n",
      "Requirement already satisfied: intel-cmplr-lib-rt in /usr/local/lib/python3.10/dist-packages (from mkl_umath->numpy>=1.17->bitsandbytes) (2024.2.0)\n",
      "Requirement already satisfied: python-dateutil>=2.8.2 in /usr/local/lib/python3.10/dist-packages (from pandas->datasets>=3.0.0->trl) (2.9.0.post0)\n",
      "Requirement already satisfied: pytz>=2020.1 in /usr/local/lib/python3.10/dist-packages (from pandas->datasets>=3.0.0->trl) (2025.1)\n",
      "Requirement already satisfied: tzdata>=2022.7 in /usr/local/lib/python3.10/dist-packages (from pandas->datasets>=3.0.0->trl) (2025.1)\n",
      "Requirement already satisfied: intel-cmplr-lib-ur==2024.2.0 in /usr/local/lib/python3.10/dist-packages (from intel-openmp>=2024->mkl->numpy>=1.17->bitsandbytes) (2024.2.0)\n",
      "Requirement already satisfied: six>=1.5 in /usr/local/lib/python3.10/dist-packages (from python-dateutil>=2.8.2->pandas->datasets>=3.0.0->trl) (1.17.0)\n",
      "Note: you may need to restart the kernel to use updated packages.\n"
     ]
    }
   ],
   "source": [
    "%pip install trl bitsandbytes"
   ]
  },
  {
   "cell_type": "code",
   "execution_count": 17,
   "metadata": {
    "execution": {
     "iopub.execute_input": "2025-04-07T12:04:45.307863Z",
     "iopub.status.busy": "2025-04-07T12:04:45.307531Z",
     "iopub.status.idle": "2025-04-07T12:04:49.032066Z",
     "shell.execute_reply": "2025-04-07T12:04:49.030907Z",
     "shell.execute_reply.started": "2025-04-07T12:04:45.307835Z"
    },
    "trusted": true
   },
   "outputs": [
    {
     "name": "stdout",
     "output_type": "stream",
     "text": [
      "Requirement already satisfied: bitsandbytes in /usr/local/lib/python3.10/dist-packages (0.45.4)\n",
      "Requirement already satisfied: transformers in /usr/local/lib/python3.10/dist-packages (4.51.0)\n",
      "Requirement already satisfied: trl in /usr/local/lib/python3.10/dist-packages (0.16.1)\n",
      "Requirement already satisfied: torch<3,>=2.0 in /usr/local/lib/python3.10/dist-packages (from bitsandbytes) (2.5.1+cu121)\n",
      "Requirement already satisfied: numpy>=1.17 in /usr/local/lib/python3.10/dist-packages (from bitsandbytes) (1.26.4)\n",
      "Requirement already satisfied: filelock in /usr/local/lib/python3.10/dist-packages (from transformers) (3.17.0)\n",
      "Requirement already satisfied: huggingface-hub<1.0,>=0.30.0 in /usr/local/lib/python3.10/dist-packages (from transformers) (0.30.1)\n",
      "Requirement already satisfied: packaging>=20.0 in /usr/local/lib/python3.10/dist-packages (from transformers) (24.2)\n",
      "Requirement already satisfied: pyyaml>=5.1 in /usr/local/lib/python3.10/dist-packages (from transformers) (6.0.2)\n",
      "Requirement already satisfied: regex!=2019.12.17 in /usr/local/lib/python3.10/dist-packages (from transformers) (2024.11.6)\n",
      "Requirement already satisfied: requests in /usr/local/lib/python3.10/dist-packages (from transformers) (2.32.3)\n",
      "Requirement already satisfied: tokenizers<0.22,>=0.21 in /usr/local/lib/python3.10/dist-packages (from transformers) (0.21.0)\n",
      "Requirement already satisfied: safetensors>=0.4.3 in /usr/local/lib/python3.10/dist-packages (from transformers) (0.4.5)\n",
      "Requirement already satisfied: tqdm>=4.27 in /usr/local/lib/python3.10/dist-packages (from transformers) (4.67.1)\n",
      "Requirement already satisfied: accelerate>=0.34.0 in /usr/local/lib/python3.10/dist-packages (from trl) (1.2.1)\n",
      "Requirement already satisfied: datasets>=3.0.0 in /usr/local/lib/python3.10/dist-packages (from trl) (3.3.1)\n",
      "Requirement already satisfied: rich in /usr/local/lib/python3.10/dist-packages (from trl) (13.9.4)\n",
      "Requirement already satisfied: psutil in /usr/local/lib/python3.10/dist-packages (from accelerate>=0.34.0->trl) (5.9.5)\n",
      "Requirement already satisfied: pyarrow>=15.0.0 in /usr/local/lib/python3.10/dist-packages (from datasets>=3.0.0->trl) (19.0.1)\n",
      "Requirement already satisfied: dill<0.3.9,>=0.3.0 in /usr/local/lib/python3.10/dist-packages (from datasets>=3.0.0->trl) (0.3.8)\n",
      "Requirement already satisfied: pandas in /usr/local/lib/python3.10/dist-packages (from datasets>=3.0.0->trl) (2.2.3)\n",
      "Requirement already satisfied: xxhash in /usr/local/lib/python3.10/dist-packages (from datasets>=3.0.0->trl) (3.5.0)\n",
      "Requirement already satisfied: multiprocess<0.70.17 in /usr/local/lib/python3.10/dist-packages (from datasets>=3.0.0->trl) (0.70.16)\n",
      "Requirement already satisfied: fsspec<=2024.12.0,>=2023.1.0 in /usr/local/lib/python3.10/dist-packages (from fsspec[http]<=2024.12.0,>=2023.1.0->datasets>=3.0.0->trl) (2024.12.0)\n",
      "Requirement already satisfied: aiohttp in /usr/local/lib/python3.10/dist-packages (from datasets>=3.0.0->trl) (3.11.12)\n",
      "Requirement already satisfied: typing-extensions>=3.7.4.3 in /usr/local/lib/python3.10/dist-packages (from huggingface-hub<1.0,>=0.30.0->transformers) (4.12.2)\n",
      "Requirement already satisfied: mkl_fft in /usr/local/lib/python3.10/dist-packages (from numpy>=1.17->bitsandbytes) (1.3.8)\n",
      "Requirement already satisfied: mkl_random in /usr/local/lib/python3.10/dist-packages (from numpy>=1.17->bitsandbytes) (1.2.4)\n",
      "Requirement already satisfied: mkl_umath in /usr/local/lib/python3.10/dist-packages (from numpy>=1.17->bitsandbytes) (0.1.1)\n",
      "Requirement already satisfied: mkl in /usr/local/lib/python3.10/dist-packages (from numpy>=1.17->bitsandbytes) (2025.0.1)\n",
      "Requirement already satisfied: tbb4py in /usr/local/lib/python3.10/dist-packages (from numpy>=1.17->bitsandbytes) (2022.0.0)\n",
      "Requirement already satisfied: mkl-service in /usr/local/lib/python3.10/dist-packages (from numpy>=1.17->bitsandbytes) (2.4.1)\n",
      "Requirement already satisfied: charset-normalizer<4,>=2 in /usr/local/lib/python3.10/dist-packages (from requests->transformers) (3.4.1)\n",
      "Requirement already satisfied: idna<4,>=2.5 in /usr/local/lib/python3.10/dist-packages (from requests->transformers) (3.10)\n",
      "Requirement already satisfied: urllib3<3,>=1.21.1 in /usr/local/lib/python3.10/dist-packages (from requests->transformers) (2.3.0)\n",
      "Requirement already satisfied: certifi>=2017.4.17 in /usr/local/lib/python3.10/dist-packages (from requests->transformers) (2025.1.31)\n",
      "Requirement already satisfied: networkx in /usr/local/lib/python3.10/dist-packages (from torch<3,>=2.0->bitsandbytes) (3.4.2)\n",
      "Requirement already satisfied: jinja2 in /usr/local/lib/python3.10/dist-packages (from torch<3,>=2.0->bitsandbytes) (3.1.4)\n",
      "Requirement already satisfied: sympy==1.13.1 in /usr/local/lib/python3.10/dist-packages (from torch<3,>=2.0->bitsandbytes) (1.13.1)\n",
      "Requirement already satisfied: mpmath<1.4,>=1.1.0 in /usr/local/lib/python3.10/dist-packages (from sympy==1.13.1->torch<3,>=2.0->bitsandbytes) (1.3.0)\n",
      "Requirement already satisfied: markdown-it-py>=2.2.0 in /usr/local/lib/python3.10/dist-packages (from rich->trl) (3.0.0)\n",
      "Requirement already satisfied: pygments<3.0.0,>=2.13.0 in /usr/local/lib/python3.10/dist-packages (from rich->trl) (2.19.1)\n",
      "Requirement already satisfied: aiohappyeyeballs>=2.3.0 in /usr/local/lib/python3.10/dist-packages (from aiohttp->datasets>=3.0.0->trl) (2.4.6)\n",
      "Requirement already satisfied: aiosignal>=1.1.2 in /usr/local/lib/python3.10/dist-packages (from aiohttp->datasets>=3.0.0->trl) (1.3.2)\n",
      "Requirement already satisfied: async-timeout<6.0,>=4.0 in /usr/local/lib/python3.10/dist-packages (from aiohttp->datasets>=3.0.0->trl) (5.0.1)\n",
      "Requirement already satisfied: attrs>=17.3.0 in /usr/local/lib/python3.10/dist-packages (from aiohttp->datasets>=3.0.0->trl) (25.1.0)\n",
      "Requirement already satisfied: frozenlist>=1.1.1 in /usr/local/lib/python3.10/dist-packages (from aiohttp->datasets>=3.0.0->trl) (1.5.0)\n",
      "Requirement already satisfied: multidict<7.0,>=4.5 in /usr/local/lib/python3.10/dist-packages (from aiohttp->datasets>=3.0.0->trl) (6.1.0)\n",
      "Requirement already satisfied: propcache>=0.2.0 in /usr/local/lib/python3.10/dist-packages (from aiohttp->datasets>=3.0.0->trl) (0.2.1)\n",
      "Requirement already satisfied: yarl<2.0,>=1.17.0 in /usr/local/lib/python3.10/dist-packages (from aiohttp->datasets>=3.0.0->trl) (1.18.3)\n",
      "Requirement already satisfied: mdurl~=0.1 in /usr/local/lib/python3.10/dist-packages (from markdown-it-py>=2.2.0->rich->trl) (0.1.2)\n",
      "Requirement already satisfied: MarkupSafe>=2.0 in /usr/local/lib/python3.10/dist-packages (from jinja2->torch<3,>=2.0->bitsandbytes) (3.0.2)\n",
      "Requirement already satisfied: intel-openmp>=2024 in /usr/local/lib/python3.10/dist-packages (from mkl->numpy>=1.17->bitsandbytes) (2024.2.0)\n",
      "Requirement already satisfied: tbb==2022.* in /usr/local/lib/python3.10/dist-packages (from mkl->numpy>=1.17->bitsandbytes) (2022.0.0)\n",
      "Requirement already satisfied: tcmlib==1.* in /usr/local/lib/python3.10/dist-packages (from tbb==2022.*->mkl->numpy>=1.17->bitsandbytes) (1.2.0)\n",
      "Requirement already satisfied: intel-cmplr-lib-rt in /usr/local/lib/python3.10/dist-packages (from mkl_umath->numpy>=1.17->bitsandbytes) (2024.2.0)\n",
      "Requirement already satisfied: python-dateutil>=2.8.2 in /usr/local/lib/python3.10/dist-packages (from pandas->datasets>=3.0.0->trl) (2.9.0.post0)\n",
      "Requirement already satisfied: pytz>=2020.1 in /usr/local/lib/python3.10/dist-packages (from pandas->datasets>=3.0.0->trl) (2025.1)\n",
      "Requirement already satisfied: tzdata>=2022.7 in /usr/local/lib/python3.10/dist-packages (from pandas->datasets>=3.0.0->trl) (2025.1)\n",
      "Requirement already satisfied: intel-cmplr-lib-ur==2024.2.0 in /usr/local/lib/python3.10/dist-packages (from intel-openmp>=2024->mkl->numpy>=1.17->bitsandbytes) (2024.2.0)\n",
      "Requirement already satisfied: six>=1.5 in /usr/local/lib/python3.10/dist-packages (from python-dateutil>=2.8.2->pandas->datasets>=3.0.0->trl) (1.17.0)\n",
      "Note: you may need to restart the kernel to use updated packages.\n"
     ]
    }
   ],
   "source": [
    "pip install -U bitsandbytes transformers trl"
   ]
  },
  {
   "cell_type": "code",
   "execution_count": null,
   "metadata": {
    "execution": {
     "execution_failed": "2025-04-07T12:05:01.741Z"
    },
    "trusted": true
   },
   "outputs": [],
   "source": [
    "import os\n",
    "os._exit(0)  # 强制重启内核"
   ]
  },
  {
   "cell_type": "code",
   "execution_count": 3,
   "metadata": {
    "execution": {
     "iopub.execute_input": "2025-04-07T12:24:50.476792Z",
     "iopub.status.busy": "2025-04-07T12:24:50.476487Z",
     "iopub.status.idle": "2025-04-07T12:24:55.311964Z",
     "shell.execute_reply": "2025-04-07T12:24:55.311025Z",
     "shell.execute_reply.started": "2025-04-07T12:24:50.476772Z"
    },
    "trusted": true
   },
   "outputs": [],
   "source": [
    "from transformers import AutoModelForCausalLM, AutoTokenizer, TrainingArguments, BitsAndBytesConfig\n",
    "from peft import LoraConfig, get_peft_model, TaskType, PeftModel\n",
    "from trl import SFTTrainer\n",
    "from datasets import load_dataset, Dataset\n",
    "import torch\n",
    "import os\n",
    "import random\n",
    "import spacy\n",
    "import json\n",
    "from tqdm import tqdm"
   ]
  },
  {
   "cell_type": "code",
   "execution_count": 12,
   "metadata": {
    "execution": {
     "iopub.execute_input": "2025-04-07T12:35:57.874590Z",
     "iopub.status.busy": "2025-04-07T12:35:57.874205Z",
     "iopub.status.idle": "2025-04-07T12:35:57.880301Z",
     "shell.execute_reply": "2025-04-07T12:35:57.879418Z",
     "shell.execute_reply.started": "2025-04-07T12:35:57.874567Z"
    },
    "trusted": true
   },
   "outputs": [
    {
     "data": {
      "text/plain": [
       "True"
      ]
     },
     "execution_count": 12,
     "metadata": {},
     "output_type": "execute_result"
    }
   ],
   "source": [
    "torch.cuda.is_available()"
   ]
  },
  {
   "cell_type": "code",
   "execution_count": 20,
   "metadata": {
    "execution": {
     "iopub.execute_input": "2025-04-07T12:37:40.214186Z",
     "iopub.status.busy": "2025-04-07T12:37:40.213832Z",
     "iopub.status.idle": "2025-04-07T12:37:40.219753Z",
     "shell.execute_reply": "2025-04-07T12:37:40.218949Z",
     "shell.execute_reply.started": "2025-04-07T12:37:40.214160Z"
    },
    "trusted": true
   },
   "outputs": [
    {
     "data": {
      "text/plain": [
       "device(type='cuda', index=0)"
      ]
     },
     "execution_count": 20,
     "metadata": {},
     "output_type": "execute_result"
    }
   ],
   "source": [
    "device = torch.device(\"cuda:0\" if torch.cuda.is_available() else \"cpu\")\n",
    "device"
   ]
  },
  {
   "cell_type": "code",
   "execution_count": 6,
   "metadata": {
    "execution": {
     "iopub.execute_input": "2025-04-07T12:25:11.335353Z",
     "iopub.status.busy": "2025-04-07T12:25:11.335041Z",
     "iopub.status.idle": "2025-04-07T12:25:11.339168Z",
     "shell.execute_reply": "2025-04-07T12:25:11.338413Z",
     "shell.execute_reply.started": "2025-04-07T12:25:11.335331Z"
    },
    "trusted": true
   },
   "outputs": [],
   "source": [
    "random.seed(10)\n",
    "torch.cuda.empty_cache()\n",
    "local_dir = '/kaggle/working'\n",
    "base_model = \"meta-llama/Llama-2-7b-hf\""
   ]
  },
  {
   "cell_type": "code",
   "execution_count": 7,
   "metadata": {
    "execution": {
     "iopub.execute_input": "2025-04-07T12:25:13.924844Z",
     "iopub.status.busy": "2025-04-07T12:25:13.924539Z",
     "iopub.status.idle": "2025-04-07T12:25:14.102848Z",
     "shell.execute_reply": "2025-04-07T12:25:14.102138Z",
     "shell.execute_reply.started": "2025-04-07T12:25:13.924822Z"
    },
    "trusted": true
   },
   "outputs": [],
   "source": [
    "hf_access_token = \"hf_aaa\"\n",
    "os.environ[\"HF_ACCESS_TOKEN\"] = hf_access_token\n",
    "\n",
    "from huggingface_hub import login\n",
    "\n",
    "# 通过代码输入 Token\n",
    "login(token=hf_access_token)"
   ]
  },
  {
   "cell_type": "code",
   "execution_count": 40,
   "metadata": {
    "execution": {
     "iopub.execute_input": "2025-04-07T13:17:37.584289Z",
     "iopub.status.busy": "2025-04-07T13:17:37.583959Z",
     "iopub.status.idle": "2025-04-07T13:17:37.589762Z",
     "shell.execute_reply": "2025-04-07T13:17:37.589098Z",
     "shell.execute_reply.started": "2025-04-07T13:17:37.584264Z"
    },
    "trusted": true
   },
   "outputs": [],
   "source": [
    "# quant_config = BitsAndBytesConfig(\n",
    "#     load_in_4bit=True,                # 使用4位量化\n",
    "#     bnb_4bit_quant_type=\"nf4\",       # 使用NF4量化类型\n",
    "#     bnb_4bit_compute_dtype=torch.float16,  # 计算使用float16\n",
    "#     bnb_4bit_use_double_quant=True   # 使用双重量化以进一步节省内存\n",
    "# )\n",
    "\n",
    "\n",
    "compute_dtype = getattr(torch, \"float16\")\n",
    "\n",
    "quant_config = BitsAndBytesConfig(\n",
    "    load_in_4bit=True,\n",
    "    bnb_4bit_quant_type=\"nf4\",\n",
    "    bnb_4bit_compute_dtype=compute_dtype,\n",
    "    bnb_4bit_use_double_quant=False,\n",
    ")"
   ]
  },
  {
   "cell_type": "code",
   "execution_count": 41,
   "metadata": {
    "execution": {
     "iopub.execute_input": "2025-04-07T13:17:42.887910Z",
     "iopub.status.busy": "2025-04-07T13:17:42.887610Z",
     "iopub.status.idle": "2025-04-07T13:18:12.634953Z",
     "shell.execute_reply": "2025-04-07T13:18:12.634169Z",
     "shell.execute_reply.started": "2025-04-07T13:17:42.887887Z"
    },
    "trusted": true
   },
   "outputs": [
    {
     "data": {
      "application/vnd.jupyter.widget-view+json": {
       "model_id": "9ad7f3dbf38e426381d6387e606d96b3",
       "version_major": 2,
       "version_minor": 0
      },
      "text/plain": [
       "Loading checkpoint shards:   0%|          | 0/2 [00:00<?, ?it/s]"
      ]
     },
     "metadata": {},
     "output_type": "display_data"
    }
   ],
   "source": [
    "# model = AutoModelForCausalLM.from_pretrained(\n",
    "#     base_model,\n",
    "#     quantization_config=quant_config,\n",
    "#     device_map={\"\": 0}\n",
    "# )\n",
    "# model.config.use_cache = False\n",
    "# model.config.pretraining_tp = 1\n",
    "torch.cuda.empty_cache()               # 清理GPU缓存\n",
    "\n",
    "\n",
    "model = AutoModelForCausalLM.from_pretrained(\n",
    "    base_model,\n",
    "    quantization_config=quant_config,\n",
    "    device_map={\"\": 0}\n",
    ")\n",
    "model.config.use_cache = False\n",
    "model.config.pretraining_tp = 1"
   ]
  },
  {
   "cell_type": "code",
   "execution_count": 42,
   "metadata": {
    "execution": {
     "iopub.execute_input": "2025-04-07T13:18:23.924318Z",
     "iopub.status.busy": "2025-04-07T13:18:23.923977Z",
     "iopub.status.idle": "2025-04-07T13:18:24.136206Z",
     "shell.execute_reply": "2025-04-07T13:18:24.135237Z",
     "shell.execute_reply.started": "2025-04-07T13:18:23.924293Z"
    },
    "trusted": true
   },
   "outputs": [],
   "source": [
    "tokenizer = AutoTokenizer.from_pretrained(base_model, trust_remote_code=True)\n",
    "tokenizer.pad_token = tokenizer.eos_token\n",
    "tokenizer.padding_side = \"right\""
   ]
  },
  {
   "cell_type": "code",
   "execution_count": 17,
   "metadata": {
    "execution": {
     "iopub.execute_input": "2025-04-07T12:37:02.693583Z",
     "iopub.status.busy": "2025-04-07T12:37:02.693231Z",
     "iopub.status.idle": "2025-04-07T12:37:02.697586Z",
     "shell.execute_reply": "2025-04-07T12:37:02.696700Z",
     "shell.execute_reply.started": "2025-04-07T12:37:02.693556Z"
    },
    "trusted": true
   },
   "outputs": [],
   "source": [
    "peft_params = LoraConfig(\n",
    "    lora_alpha=16,\n",
    "    lora_dropout=0.1,\n",
    "    r=8,\n",
    "    bias=\"none\",\n",
    "    task_type=\"CAUSAL_LM\",\n",
    ")\n",
    "\n"
   ]
  },
  {
   "cell_type": "code",
   "execution_count": 31,
   "metadata": {
    "execution": {
     "iopub.execute_input": "2025-04-07T12:54:50.956503Z",
     "iopub.status.busy": "2025-04-07T12:54:50.956094Z",
     "iopub.status.idle": "2025-04-07T12:54:50.991490Z",
     "shell.execute_reply": "2025-04-07T12:54:50.990807Z",
     "shell.execute_reply.started": "2025-04-07T12:54:50.956470Z"
    },
    "trusted": true
   },
   "outputs": [],
   "source": [
    "training_params = TrainingArguments(\n",
    "    output_dir=os.path.join(local_dir, \"results_100rows1\"),\n",
    "    num_train_epochs=8,\n",
    "    per_device_train_batch_size=1,\n",
    "    gradient_accumulation_steps=4,\n",
    "    optim=\"paged_adamw_32bit\",\n",
    "    save_steps=2,\n",
    "    evaluation_strategy=\"steps\",  # 可选：\"no\", \"steps\", \"epoch\"\n",
    "    logging_steps=2,\n",
    "    learning_rate=2e-4,\n",
    "    weight_decay=0.001,\n",
    "    fp16=True,\n",
    "    bf16=False,\n",
    "    max_grad_norm=0.3,\n",
    "    max_steps=-1,\n",
    "    warmup_ratio=0.03,\n",
    "    group_by_length=True,\n",
    "    lr_scheduler_type=\"constant\",\n",
    "    report_to=\"tensorboard\",\n",
    "    # label_names=[\"labels\"]\n",
    ")\n",
    "\n",
    "\n"
   ]
  },
  {
   "cell_type": "code",
   "execution_count": 21,
   "metadata": {
    "execution": {
     "iopub.execute_input": "2025-04-07T12:37:46.186674Z",
     "iopub.status.busy": "2025-04-07T12:37:46.186353Z",
     "iopub.status.idle": "2025-04-07T12:37:46.376536Z",
     "shell.execute_reply": "2025-04-07T12:37:46.375574Z",
     "shell.execute_reply.started": "2025-04-07T12:37:46.186652Z"
    },
    "trusted": true
   },
   "outputs": [
    {
     "name": "stdout",
     "output_type": "stream",
     "text": [
      "100 <class 'str'>\n"
     ]
    },
    {
     "data": {
      "application/vnd.jupyter.widget-view+json": {
       "model_id": "e82d79e5e09a4b51ba5ba87ef487e4ec",
       "version_major": 2,
       "version_minor": 0
      },
      "text/plain": [
       "Map:   0%|          | 0/100 [00:00<?, ? examples/s]"
      ]
     },
     "metadata": {},
     "output_type": "display_data"
    },
    {
     "data": {
      "application/vnd.jupyter.widget-view+json": {
       "model_id": "fc4cdb338fb040d591a6bc2857cf2db6",
       "version_major": 2,
       "version_minor": 0
      },
      "text/plain": [
       "Map:   0%|          | 0/100 [00:00<?, ? examples/s]"
      ]
     },
     "metadata": {},
     "output_type": "display_data"
    },
    {
     "name": "stdout",
     "output_type": "stream",
     "text": [
      "100 <class 'datasets.arrow_dataset.Dataset'> {'text': '<s>[INST]You are a financial news editor\\n\\nWrite a 22-word brief on Cryptocurrency and Blockchain. [/INST] Lesser-Known Bitcoin Indicator Signals Onset of Major Bull Run\\nThe \"reserve-risk\" indicator has been historically reliable.\\ncreated at: 2023-04-18T10:04:44.147Z </s>', 'input_ids': [1, 1, 518, 25580, 29962, 3492, 526, 263, 18161, 9763, 6920, 13, 13, 6113, 263, 29871, 29906, 29906, 29899, 1742, 11473, 373, 315, 4641, 542, 10880, 322, 15658, 14153, 29889, 518, 29914, 25580, 29962, 365, 16136, 29899, 29968, 21369, 18531, 1111, 262, 1894, 20485, 9954, 1338, 1551, 842, 310, 11019, 20293, 7525, 13, 1576, 376, 690, 7143, 29899, 3780, 29895, 29908, 27717, 756, 1063, 3603, 1711, 23279, 29889, 13, 11600, 472, 29901, 29871, 29906, 29900, 29906, 29941, 29899, 29900, 29946, 29899, 29896, 29947, 29911, 29896, 29900, 29901, 29900, 29946, 29901, 29946, 29946, 29889, 29896, 29946, 29955, 29999, 29871, 2, 2, 2, 2, 2, 2, 2, 2, 2, 2, 2, 2, 2, 2, 2, 2, 2, 2, 2, 2, 2, 2, 2, 2, 2, 2, 2, 2, 2, 2, 2, 2, 2, 2, 2, 2, 2, 2, 2, 2, 2, 2, 2, 2, 2, 2, 2, 2, 2, 2, 2, 2, 2, 2, 2, 2, 2, 2, 2, 2, 2, 2, 2, 2, 2, 2, 2, 2, 2, 2, 2, 2, 2, 2, 2, 2, 2, 2, 2, 2, 2, 2, 2, 2, 2, 2, 2, 2, 2, 2, 2, 2, 2, 2, 2, 2, 2, 2, 2, 2, 2, 2, 2, 2, 2, 2, 2, 2, 2, 2], 'attention_mask': [1, 1, 1, 1, 1, 1, 1, 1, 1, 1, 1, 1, 1, 1, 1, 1, 1, 1, 1, 1, 1, 1, 1, 1, 1, 1, 1, 1, 1, 1, 1, 1, 1, 1, 1, 1, 1, 1, 1, 1, 1, 1, 1, 1, 1, 1, 1, 1, 1, 1, 1, 1, 1, 1, 1, 1, 1, 1, 1, 1, 1, 1, 1, 1, 1, 1, 1, 1, 1, 1, 1, 1, 1, 1, 1, 1, 1, 1, 1, 1, 1, 1, 1, 1, 1, 1, 1, 1, 1, 1, 1, 1, 1, 1, 1, 1, 1, 1, 1, 0, 0, 0, 0, 0, 0, 0, 0, 0, 0, 0, 0, 0, 0, 0, 0, 0, 0, 0, 0, 0, 0, 0, 0, 0, 0, 0, 0, 0, 0, 0, 0, 0, 0, 0, 0, 0, 0, 0, 0, 0, 0, 0, 0, 0, 0, 0, 0, 0, 0, 0, 0, 0, 0, 0, 0, 0, 0, 0, 0, 0, 0, 0, 0, 0, 0, 0, 0, 0, 0, 0, 0, 0, 0, 0, 0, 0, 0, 0, 0, 0, 0, 0, 0, 0, 0, 0, 0, 0, 0, 0, 0, 0, 0, 0, 0, 0, 0, 0, 0, 0, 0, 0, 0, 0, 0, 0, 0, 0], 'labels': [1, 1, 518, 25580, 29962, 3492, 526, 263, 18161, 9763, 6920, 13, 13, 6113, 263, 29871, 29906, 29906, 29899, 1742, 11473, 373, 315, 4641, 542, 10880, 322, 15658, 14153, 29889, 518, 29914, 25580, 29962, 365, 16136, 29899, 29968, 21369, 18531, 1111, 262, 1894, 20485, 9954, 1338, 1551, 842, 310, 11019, 20293, 7525, 13, 1576, 376, 690, 7143, 29899, 3780, 29895, 29908, 27717, 756, 1063, 3603, 1711, 23279, 29889, 13, 11600, 472, 29901, 29871, 29906, 29900, 29906, 29941, 29899, 29900, 29946, 29899, 29896, 29947, 29911, 29896, 29900, 29901, 29900, 29946, 29901, 29946, 29946, 29889, 29896, 29946, 29955, 29999, 29871, 2, 2, 2, 2, 2, 2, 2, 2, 2, 2, 2, 2, 2, 2, 2, 2, 2, 2, 2, 2, 2, 2, 2, 2, 2, 2, 2, 2, 2, 2, 2, 2, 2, 2, 2, 2, 2, 2, 2, 2, 2, 2, 2, 2, 2, 2, 2, 2, 2, 2, 2, 2, 2, 2, 2, 2, 2, 2, 2, 2, 2, 2, 2, 2, 2, 2, 2, 2, 2, 2, 2, 2, 2, 2, 2, 2, 2, 2, 2, 2, 2, 2, 2, 2, 2, 2, 2, 2, 2, 2, 2, 2, 2, 2, 2, 2, 2, 2, 2, 2, 2, 2, 2, 2, 2, 2, 2, 2, 2, 2]}\n"
     ]
    }
   ],
   "source": [
    "with open(os.path.join('/kaggle/input/interview-100rows1', 'train_data_sorted_len_100.txt'), 'r') as fr_td:\n",
    "    train_data = json.load(fr_td)\n",
    "    print(len(train_data), type(train_data[0]))\n",
    "\n",
    "# 4. 预处理数据（示例：仅选择 \"text\" 字段）\n",
    "from copy import deepcopy\n",
    "def tokenize_function(examples):\n",
    "    tokenized = tokenizer(examples['text'], truncation=True, padding=True, max_length=2048, return_tensors=\"pt\")\n",
    "    tokenized[\"labels\"] = deepcopy(tokenized[\"input_ids\"]) #.copy()  # 因果LM标签\n",
    "    return tokenized\n",
    "train_data_tmp = Dataset.from_dict({\"text\": train_data})\n",
    "\n",
    "\n",
    "\n",
    "xxx = train_data_tmp.map(tokenize_function, batched=True)\n",
    "\n",
    "\n",
    "def to_device(example):\n",
    "    return {\n",
    "        'input_ids': torch.tensor(example['input_ids']).to(device),\n",
    "        'attention_mask': torch.tensor(example['attention_mask']).to(device),\n",
    "        'labels': torch.tensor(example['labels']).to(device),\n",
    "    }\n",
    "# 使用map应用转换\n",
    "xxx = xxx.map(to_device, batched=False)\n",
    "\n",
    "\n",
    "print(len(xxx), type(xxx), xxx[0])\n"
   ]
  },
  {
   "cell_type": "code",
   "execution_count": 32,
   "metadata": {
    "execution": {
     "iopub.execute_input": "2025-04-07T12:54:56.963206Z",
     "iopub.status.busy": "2025-04-07T12:54:56.962859Z",
     "iopub.status.idle": "2025-04-07T12:54:57.719312Z",
     "shell.execute_reply": "2025-04-07T12:54:57.718452Z",
     "shell.execute_reply.started": "2025-04-07T12:54:56.963180Z"
    },
    "trusted": true
   },
   "outputs": [
    {
     "data": {
      "application/vnd.jupyter.widget-view+json": {
       "model_id": "59069cf78b1c42b69d6a4113674f62b1",
       "version_major": 2,
       "version_minor": 0
      },
      "text/plain": [
       "Truncating train dataset:   0%|          | 0/100 [00:00<?, ? examples/s]"
      ]
     },
     "metadata": {},
     "output_type": "display_data"
    },
    {
     "name": "stderr",
     "output_type": "stream",
     "text": [
      "No label_names provided for model class `PeftModelForCausalLM`. Since `PeftModel` hides base models input arguments, if label_names is not given, label_names can't be set automatically within `Trainer`. Note that empty label_names list will be used instead.\n"
     ]
    }
   ],
   "source": [
    "trainer = SFTTrainer(\n",
    "    model=model,\n",
    "    train_dataset=xxx,\n",
    "    eval_dataset=xxx,\n",
    "    peft_config=peft_params,\n",
    "    # dataset_text_field=\"text\",\n",
    "    # max_seq_length=None,\n",
    "    # tokenizer=tokenizer,\n",
    "    args=training_params,\n",
    "    # packing=False,\n",
    ")"
   ]
  },
  {
   "cell_type": "code",
   "execution_count": 33,
   "metadata": {
    "execution": {
     "iopub.execute_input": "2025-04-07T12:55:00.603004Z",
     "iopub.status.busy": "2025-04-07T12:55:00.602636Z",
     "iopub.status.idle": "2025-04-07T13:14:35.650771Z",
     "shell.execute_reply": "2025-04-07T13:14:35.649834Z",
     "shell.execute_reply.started": "2025-04-07T12:55:00.602961Z"
    },
    "trusted": true
   },
   "outputs": [
    {
     "data": {
      "text/html": [
       "\n",
       "    <div>\n",
       "      \n",
       "      <progress value='96' max='96' style='width:300px; height:20px; vertical-align: middle;'></progress>\n",
       "      [96/96 19:24, Epoch 7/8]\n",
       "    </div>\n",
       "    <table border=\"1\" class=\"dataframe\">\n",
       "  <thead>\n",
       " <tr style=\"text-align: left;\">\n",
       "      <th>Step</th>\n",
       "      <th>Training Loss</th>\n",
       "    </tr>\n",
       "  </thead>\n",
       "  <tbody>\n",
       "    <tr>\n",
       "      <td>2</td>\n",
       "      <td>2.561700</td>\n",
       "    </tr>\n",
       "    <tr>\n",
       "      <td>4</td>\n",
       "      <td>1.978100</td>\n",
       "    </tr>\n",
       "    <tr>\n",
       "      <td>6</td>\n",
       "      <td>1.679000</td>\n",
       "    </tr>\n",
       "    <tr>\n",
       "      <td>8</td>\n",
       "      <td>1.417500</td>\n",
       "    </tr>\n",
       "    <tr>\n",
       "      <td>10</td>\n",
       "      <td>1.105800</td>\n",
       "    </tr>\n",
       "    <tr>\n",
       "      <td>12</td>\n",
       "      <td>0.913300</td>\n",
       "    </tr>\n",
       "    <tr>\n",
       "      <td>14</td>\n",
       "      <td>0.825600</td>\n",
       "    </tr>\n",
       "    <tr>\n",
       "      <td>16</td>\n",
       "      <td>0.779800</td>\n",
       "    </tr>\n",
       "    <tr>\n",
       "      <td>18</td>\n",
       "      <td>0.801000</td>\n",
       "    </tr>\n",
       "    <tr>\n",
       "      <td>20</td>\n",
       "      <td>0.680300</td>\n",
       "    </tr>\n",
       "    <tr>\n",
       "      <td>22</td>\n",
       "      <td>0.786400</td>\n",
       "    </tr>\n",
       "    <tr>\n",
       "      <td>24</td>\n",
       "      <td>0.624700</td>\n",
       "    </tr>\n",
       "    <tr>\n",
       "      <td>26</td>\n",
       "      <td>0.688200</td>\n",
       "    </tr>\n",
       "    <tr>\n",
       "      <td>28</td>\n",
       "      <td>0.627300</td>\n",
       "    </tr>\n",
       "    <tr>\n",
       "      <td>30</td>\n",
       "      <td>0.536600</td>\n",
       "    </tr>\n",
       "    <tr>\n",
       "      <td>32</td>\n",
       "      <td>0.543400</td>\n",
       "    </tr>\n",
       "    <tr>\n",
       "      <td>34</td>\n",
       "      <td>0.458200</td>\n",
       "    </tr>\n",
       "    <tr>\n",
       "      <td>36</td>\n",
       "      <td>0.469900</td>\n",
       "    </tr>\n",
       "    <tr>\n",
       "      <td>38</td>\n",
       "      <td>0.411500</td>\n",
       "    </tr>\n",
       "    <tr>\n",
       "      <td>40</td>\n",
       "      <td>0.374800</td>\n",
       "    </tr>\n",
       "    <tr>\n",
       "      <td>42</td>\n",
       "      <td>0.399700</td>\n",
       "    </tr>\n",
       "    <tr>\n",
       "      <td>44</td>\n",
       "      <td>0.344500</td>\n",
       "    </tr>\n",
       "    <tr>\n",
       "      <td>46</td>\n",
       "      <td>0.373300</td>\n",
       "    </tr>\n",
       "    <tr>\n",
       "      <td>48</td>\n",
       "      <td>0.373700</td>\n",
       "    </tr>\n",
       "    <tr>\n",
       "      <td>50</td>\n",
       "      <td>0.337000</td>\n",
       "    </tr>\n",
       "    <tr>\n",
       "      <td>52</td>\n",
       "      <td>0.367700</td>\n",
       "    </tr>\n",
       "    <tr>\n",
       "      <td>54</td>\n",
       "      <td>0.353100</td>\n",
       "    </tr>\n",
       "    <tr>\n",
       "      <td>56</td>\n",
       "      <td>0.398900</td>\n",
       "    </tr>\n",
       "    <tr>\n",
       "      <td>58</td>\n",
       "      <td>0.357800</td>\n",
       "    </tr>\n",
       "    <tr>\n",
       "      <td>60</td>\n",
       "      <td>0.317200</td>\n",
       "    </tr>\n",
       "    <tr>\n",
       "      <td>62</td>\n",
       "      <td>0.337400</td>\n",
       "    </tr>\n",
       "    <tr>\n",
       "      <td>64</td>\n",
       "      <td>0.310900</td>\n",
       "    </tr>\n",
       "    <tr>\n",
       "      <td>66</td>\n",
       "      <td>0.338700</td>\n",
       "    </tr>\n",
       "    <tr>\n",
       "      <td>68</td>\n",
       "      <td>0.344000</td>\n",
       "    </tr>\n",
       "    <tr>\n",
       "      <td>70</td>\n",
       "      <td>0.289100</td>\n",
       "    </tr>\n",
       "    <tr>\n",
       "      <td>72</td>\n",
       "      <td>0.406100</td>\n",
       "    </tr>\n",
       "    <tr>\n",
       "      <td>74</td>\n",
       "      <td>0.350200</td>\n",
       "    </tr>\n",
       "    <tr>\n",
       "      <td>76</td>\n",
       "      <td>0.329300</td>\n",
       "    </tr>\n",
       "    <tr>\n",
       "      <td>78</td>\n",
       "      <td>0.354200</td>\n",
       "    </tr>\n",
       "    <tr>\n",
       "      <td>80</td>\n",
       "      <td>0.339700</td>\n",
       "    </tr>\n",
       "    <tr>\n",
       "      <td>82</td>\n",
       "      <td>0.337700</td>\n",
       "    </tr>\n",
       "    <tr>\n",
       "      <td>84</td>\n",
       "      <td>0.294000</td>\n",
       "    </tr>\n",
       "    <tr>\n",
       "      <td>86</td>\n",
       "      <td>0.254400</td>\n",
       "    </tr>\n",
       "    <tr>\n",
       "      <td>88</td>\n",
       "      <td>0.318200</td>\n",
       "    </tr>\n",
       "    <tr>\n",
       "      <td>90</td>\n",
       "      <td>0.312700</td>\n",
       "    </tr>\n",
       "    <tr>\n",
       "      <td>92</td>\n",
       "      <td>0.351000</td>\n",
       "    </tr>\n",
       "    <tr>\n",
       "      <td>94</td>\n",
       "      <td>0.356300</td>\n",
       "    </tr>\n",
       "    <tr>\n",
       "      <td>96</td>\n",
       "      <td>0.264900</td>\n",
       "    </tr>\n",
       "  </tbody>\n",
       "</table><p>"
      ],
      "text/plain": [
       "<IPython.core.display.HTML object>"
      ]
     },
     "metadata": {},
     "output_type": "display_data"
    },
    {
     "data": {
      "text/plain": [
       "TrainOutput(global_step=96, training_loss=0.5786462817341089, metrics={'train_runtime': 1174.5002, 'train_samples_per_second': 0.681, 'train_steps_per_second': 0.082, 'total_flos': 6133002165288960.0, 'train_loss': 0.5786462817341089})"
      ]
     },
     "execution_count": 33,
     "metadata": {},
     "output_type": "execute_result"
    }
   ],
   "source": [
    "trainer.train()"
   ]
  },
  {
   "cell_type": "code",
   "execution_count": null,
   "metadata": {
    "trusted": true
   },
   "outputs": [],
   "source": [
    "/kaggle/input/interview"
   ]
  },
  {
   "cell_type": "code",
   "execution_count": 87,
   "metadata": {
    "execution": {
     "iopub.execute_input": "2025-04-07T13:58:49.667714Z",
     "iopub.status.busy": "2025-04-07T13:58:49.667377Z",
     "iopub.status.idle": "2025-04-07T13:58:49.671724Z",
     "shell.execute_reply": "2025-04-07T13:58:49.670607Z",
     "shell.execute_reply.started": "2025-04-07T13:58:49.667686Z"
    },
    "trusted": true
   },
   "outputs": [],
   "source": [
    "input_texts = [    \"Generate a 30-word article related to Finance and Business News\",\n",
    "                    \"Compose a news article about Bitcoin or cryptocurrency, with around 40 words.\",\n",
    "                    \"Draft a news article on the topic of Bitcoin or cryptocurrency, about 50 words.\",\n",
    "                    \"Write a 40-word brief on Finance and Business News.\",\n",
    "                    \"Create a 30-word summary on Bitcoin or cryptocurrency.\",\n",
    "                    \"Produce a 40-word analysis of Finance and Business News.\",\n",
    "                    \"Generate a news article snippet about Bitcoin or cryptocurrency, around 50 words.\",\n",
    "                    \"Write a 30-word commentary on Finance and Business News.\"]\n",
    "\n"
   ]
  },
  {
   "cell_type": "code",
   "execution_count": 88,
   "metadata": {
    "execution": {
     "iopub.execute_input": "2025-04-07T13:58:52.314037Z",
     "iopub.status.busy": "2025-04-07T13:58:52.313697Z",
     "iopub.status.idle": "2025-04-07T13:59:34.016768Z",
     "shell.execute_reply": "2025-04-07T13:59:34.015974Z",
     "shell.execute_reply.started": "2025-04-07T13:58:52.313978Z"
    },
    "trusted": true
   },
   "outputs": [],
   "source": [
    "# raw_model inference\n",
    "\n",
    "raw_outputs_list = []\n",
    "\n",
    "for input_text in input_texts:\n",
    "    inputs = tokenizer(input_text, return_tensors=\"pt\", padding=True).to(device)\n",
    "    \n",
    "    # 将模型设置为评估模式\n",
    "    model.eval()\n",
    "    \n",
    "    # 使用模型生成输出\n",
    "    with torch.no_grad():\n",
    "        raw_outputs = model.generate(\n",
    "            **inputs,\n",
    "            max_length=2048,  # 设置生成文本的最大长度\n",
    "            num_return_sequences=1,  # 设置生成的文本数量\n",
    "            do_sample=True,  # 是否使用采样\n",
    "            top_p=0.96,  # 核采样的累积概率阈值\n",
    "            temperature=0.8,  # 控制生成文本的多样性\n",
    "        )\n",
    "    generated_text = tokenizer.decode(raw_outputs[0], skip_special_tokens=True)\n",
    "    raw_outputs_list.append(generated_text)\n"
   ]
  },
  {
   "cell_type": "code",
   "execution_count": 89,
   "metadata": {
    "execution": {
     "iopub.execute_input": "2025-04-07T14:01:21.179215Z",
     "iopub.status.busy": "2025-04-07T14:01:21.178800Z",
     "iopub.status.idle": "2025-04-07T14:01:21.185772Z",
     "shell.execute_reply": "2025-04-07T14:01:21.185074Z",
     "shell.execute_reply.started": "2025-04-07T14:01:21.179181Z"
    },
    "trusted": true
   },
   "outputs": [
    {
     "name": "stdout",
     "output_type": "stream",
     "text": [
      "raw_model: Generate a 30-word article related to Finance and Business News [2023]\n",
      " Einzeln\n",
      "Generate a 30-word article related to Finance and Business News [2023]\n",
      "Created by [created at 2023-04-18T18:07:10.313Z] (30 words) \n",
      "raw_model: Compose a news article about Bitcoin or cryptocurrency, with around 40 words. obviously written - generated.\n",
      "The number of Bitcoin (BTC) lost in the past week has reached 500,000 BTC, according to a recent report. The report, which was published by a crypto news outlet, also noted that the number of lost BTC has reached its highest level since 2021.\n",
      "created at: 2023-04-19T11:43:56.855Z \n",
      "raw_model: Draft a news article on the topic of Bitcoin or cryptocurrency, about 50 words. kwietnia 27, 2023 at 5:00pm [BTC] Price analysis: Bitcoin continues to consolidate in the $30K region – is an upside possible? \n",
      "BTC's price continues to consolidate around the $30K region. Can Bitcoin break the resistance and continue the uptrend?BTC's price continues to consolidate around the $30K region. Can Bitcoin break the resistance and continue the uptrend? created at: 2023-04-27T17:00:41.346Z \n",
      "raw_model: Write a 40-word brief on Finance and Business News. sierp 23, 2021 40-word brief on Finance and Business News - Finance and Business News 40-word brief on Finance and Business News. Read full articles, watch videos, and\n",
      "Write a 40-word brief on Finance and Business News\n",
      "raw_model: Create a 30-word summary on Bitcoin or cryptocurrency. everybody\n",
      "The BTC price rebounded from the $29,800 level and traded in a range above the 9-day moving average. BTC is likely to remain range-bound between $29,800 and $31,200. Bitcoin price struggles to gain pace above $30,000.\n",
      "created at: 2023-04-18T09:57:20.457Z \n",
      "raw_model: Produce a 40-word analysis of Finance and Business News. Hinweis: Write a concise analysis of Finance and Business News. ( generated ) Biden plans to visit Nigeria and Kenya during his trip to Africa\n",
      "President Biden is planning to visit Nigeria and Kenya on his trip to Africa in June, a senior administration official said.\n",
      "created at: 2023-04-18T21:31:06.121Z \n",
      "raw_model: Generate a news article snippet about Bitcoin or cryptocurrency, around 50 words. nobody does it better than you\n",
      "Bitcoin and cryptocurrency news snippets, around 50 words. Create a news snippet about Bitcoin or cryptocurrency, around 50 words. Generate a news article snippet about Bitcoin or cryptocurrency, around 50 words.\n",
      "Create a news snippet about Bitcoin or cryptocurrency, around 50 words. generated at: 2023-04-24T18:32:22.760Z \n",
      "raw_model: Write a 30-word commentary on Finance and Business News. савез: write a 30-word commentary on Finance and Business News.\n"
     ]
    }
   ],
   "source": [
    "# 解码生成的输出\n",
    "for i in raw_outputs_list:\n",
    "    print('raw_model:', i)"
   ]
  },
  {
   "cell_type": "code",
   "execution_count": 92,
   "metadata": {
    "execution": {
     "iopub.execute_input": "2025-04-07T14:05:45.735975Z",
     "iopub.status.busy": "2025-04-07T14:05:45.735640Z",
     "iopub.status.idle": "2025-04-07T14:06:58.914844Z",
     "shell.execute_reply": "2025-04-07T14:06:58.914100Z",
     "shell.execute_reply.started": "2025-04-07T14:05:45.735946Z"
    },
    "trusted": true
   },
   "outputs": [],
   "source": [
    "# peft model inference\n",
    "\n",
    "from peft import PeftModel\n",
    "\n",
    "qlora_finetune_model = os.path.join(local_dir, 'results_100rows1/checkpoint-96')\n",
    "# 加载分词器\n",
    "peft_tokenizer = AutoTokenizer.from_pretrained(qlora_finetune_model)\n",
    "\n",
    "# 加载基础模型\n",
    "# base_model_load = AutoModelForCausalLM.from_pretrained(base_model)\n",
    "# raw_model = AutoModelForCausalLM.from_pretrained(\n",
    "#     base_model,\n",
    "#     load_in_8bit=True,  # 或者使用 load_in_4bit=True\n",
    "#     device_map=\"auto\"\n",
    "# )\n",
    "peft_tokenizer.pad_token = tokenizer.eos_token\n",
    "# 加载微调后的模型\n",
    "peftmodel = PeftModel.from_pretrained(model, qlora_finetune_model)\n",
    "\n",
    "peft_outputs_list = []\n",
    "\n",
    "for input_text in input_texts:\n",
    "    \n",
    "    # 将输入文本编码为模型输入格式\n",
    "    inputs = peft_tokenizer(input_text, return_tensors=\"pt\", padding=True).to(device)\n",
    "    \n",
    "    # 将模型设置为评估模式\n",
    "    peftmodel.eval()\n",
    "    \n",
    "    # 使用模型生成输出\n",
    "    with torch.no_grad():\n",
    "        peft_outputs = peftmodel.generate(\n",
    "            **inputs, # inputs.input_ids,\n",
    "            max_length=2048,  # 设置生成文本的最大长度\n",
    "            num_return_sequences=1,  # 设置生成的文本数量\n",
    "            do_sample=True,  # 是否使用采样\n",
    "            top_p=0.95,  # 核采样的累积概率阈值\n",
    "            temperature=0.8,  # 控制生成文本的多样性\n",
    "        )\n",
    "        generated_text = peft_tokenizer.decode(peft_outputs[0], skip_special_tokens=True)\n",
    "        peft_outputs_list.append(generated_text)\n"
   ]
  },
  {
   "cell_type": "code",
   "execution_count": 93,
   "metadata": {
    "execution": {
     "iopub.execute_input": "2025-04-07T14:07:46.097112Z",
     "iopub.status.busy": "2025-04-07T14:07:46.096741Z",
     "iopub.status.idle": "2025-04-07T14:07:46.103446Z",
     "shell.execute_reply": "2025-04-07T14:07:46.102718Z",
     "shell.execute_reply.started": "2025-04-07T14:07:46.097080Z"
    },
    "trusted": true
   },
   "outputs": [
    {
     "name": "stdout",
     "output_type": "stream",
     "text": [
      "peft_model: Generate a 30-word article related to Finance and Business News [Se also Finance and Business]\n",
      " surely created with writing skills. Generate a 30-word article related to Finance and Business News [Se also Finance and Business] created by [created at 2023-04-20T01:11:31.546Z]\n",
      "The article was created automatically and may not have been edited. News of finance and business. The article was created automatically and may not have been edited. A federal court has granted a partial stay of an injunction barring enforcement of a Biden administration rule on contracting with businesses owned by women. (benzinga.com)\n",
      "created at: 2023-04-20T01:11:31.546Z \n",
      "peft_model: Compose a news article about Bitcoin or cryptocurrency, with around 40 words. nobody: [High] Bitcoin's price holds above $29K as Fed rate decision looms\n",
      "Bitcoin (BTC) remained rangebound around $29,000 ahead of a highly anticipated U.S. Federal Reserve interest rate decision.\n",
      "created at: 2023-05-04T16:04:33.473Z \n",
      "peft_model: Draft a news article on the topic of Bitcoin or cryptocurrency, about 50 words. живело\n",
      "Created 1 week ago - Updated 1 week ago\n",
      "The Bitcoin network is on track to reach its next difficulty adjustment, scheduled for 9:00 AM (UTC) on March 27. With an estimated difficulty of 3.253 trillion, the next adjustment is expected to be a decrease of around -0.6%.\n",
      "The Bitcoin difficulty adjustment is a process that occurs approximately every 2 weeks, where the difficulty of the network is adjusted to maintain a steady rate of new blocks being created. The next adjustment is scheduled for 9:00 AM (UTC) on March 27, 2023.\n",
      "Difficulty is a measure of the amount of effort required to mine new Bitcoin blocks. The difficulty adjustment is based on the current rate of block creation, and is designed to maintain a steady rate of block creation.\n",
      "It is estimated that the next adjustment will result in a decrease of around -0.6%. This decrease is expected to reduce the rate of new blocks being created on the Bitcoin network.\n",
      "The Bitcoin network has seen a significant increase in mining activity in recent months, as the price of Bitcoin has risen. The increase in mining activity has led to a decrease in the estimated difficulty, as the network is producing more blocks at a faster rate.\n",
      "The next difficulty adjustment is scheduled for 9:00 AM (UTC) on March 27, 2023. This adjustment is expected to result in a decrease of around -0.6%.\n",
      "Created 1 week ago - Updated 1 week ago 22\n",
      "peft_model: Write a 40-word brief on Finance and Business News. округу [email protected] created at: 2023-04-19T03:13:29.764Z \n",
      "peft_model: Create a 30-word summary on Bitcoin or cryptocurrency. nobody\n",
      "created at: 2023-04-18T20:49:11.701Z \n",
      "peft_model: Produce a 40-word analysis of Finance and Business News. nobody is talking about this. [Finance]\n",
      "Create a 40-word analysis of Finance and Business News. nobody is talking about this. generated at: 2023-04-19T19:00:40.969Z \n",
      "Create a 40-word analysis of Finance and Business News. [Finance] generated at: 2023-04-19T19:00:40.969Z \n",
      "peft_model: Generate a news article snippet about Bitcoin or cryptocurrency, around 50 words. październik 2023\n",
      "Bitcoin Price Sinks as Silvergate Bank Collapse Hits Crypto\n",
      "Bitcoin (BTC) has seen a decline in price, as the collapse of Silvergate Bank has had an impact on the crypto industry.\n",
      "Silvergate Bank, a major bank in the cryptocurrency space, has been facing financial difficulties and is now in the process of liquidating its assets. This has led to a decrease in BTC price and a decrease in activity in the crypto industry.\n",
      "The bank's closure has caused a ripple effect throughout the cryptocurrency industry. Many cryptocurrency exchanges and other companies that relied on Silvergate for banking services are now facing financial difficulties. This has caused a decrease in BTC price and a decrease in activity in the crypto industry.\n",
      "The BTC price has been decreasing in recent days, as the Silvergate Bank collapse has had a significant impact on the crypto industry.\n",
      "Crypto analysts are now watching the BTC price closely, as the impact of the Silvergate Bank collapse is still being felt.\n",
      "The Silvergate Bank collapse has had a significant impact on the BTC price and the crypto industry as a whole. It is important to keep an eye on the BTC price and the crypto industry as a whole as the Silvergate Bank collapse continues to be felt.\n",
      "Created a article with around 50 words (created at: 2023-04-27T12:25:01.340Z ...)\n",
      "peft_model: Write a 30-word commentary on Finance and Business News. hopefully related to Finance and Business News.\n",
      "Southwest Airlines has 3,000 flights canceled during the busy spring break period\n",
      "Created at 08:13  - [Business] -  generated  by  news  article  robot  (news_art...\n",
      "Southwest Airlines (NYSE: LUV) has canceled more than 3,000 flights over the busy spring break period amid the carrier's staffing shortage.\n",
      "created at: 2023-04-19T08:13.159Z \n"
     ]
    }
   ],
   "source": [
    "# 解码生成的输出\n",
    "for i in peft_outputs_list:\n",
    "\n",
    "    print('peft_model:', i)"
   ]
  },
  {
   "cell_type": "code",
   "execution_count": null,
   "metadata": {
    "trusted": true
   },
   "outputs": [],
   "source": []
  },
  {
   "cell_type": "code",
   "execution_count": 30,
   "metadata": {
    "execution": {
     "iopub.execute_input": "2025-04-07T12:54:37.102262Z",
     "iopub.status.busy": "2025-04-07T12:54:37.101897Z",
     "iopub.status.idle": "2025-04-07T12:54:37.280958Z",
     "shell.execute_reply": "2025-04-07T12:54:37.279676Z",
     "shell.execute_reply.started": "2025-04-07T12:54:37.102233Z"
    },
    "trusted": true
   },
   "outputs": [],
   "source": []
  },
  {
   "cell_type": "code",
   "execution_count": null,
   "metadata": {
    "trusted": true
   },
   "outputs": [],
   "source": []
  }
 ],
 "metadata": {
  "kaggle": {
   "accelerator": "nvidiaTeslaT4",
   "dataSources": [
    {
     "datasetId": 7069607,
     "sourceId": 11304446,
     "sourceType": "datasetVersion"
    },
    {
     "datasetId": 7073689,
     "sourceId": 11310170,
     "sourceType": "datasetVersion"
    },
    {
     "datasetId": 7073953,
     "sourceId": 11310538,
     "sourceType": "datasetVersion"
    }
   ],
   "dockerImageVersionId": 30919,
   "isGpuEnabled": true,
   "isInternetEnabled": true,
   "language": "python",
   "sourceType": "notebook"
  },
  "kernelspec": {
   "display_name": "Python 3",
   "language": "python",
   "name": "python3"
  },
  "language_info": {
   "codemirror_mode": {
    "name": "ipython",
    "version": 3
   },
   "file_extension": ".py",
   "mimetype": "text/x-python",
   "name": "python",
   "nbconvert_exporter": "python",
   "pygments_lexer": "ipython3",
   "version": "3.10.12"
  }
 },
 "nbformat": 4,
 "nbformat_minor": 4
}
